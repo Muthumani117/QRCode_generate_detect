{
 "cells": [
  {
   "cell_type": "markdown",
   "id": "826d1230",
   "metadata": {},
   "source": [
    "# Generating and Detecting QR Code"
   ]
  },
  {
   "cell_type": "code",
   "execution_count": 3,
   "id": "4fe94117",
   "metadata": {},
   "outputs": [
    {
     "name": "stdout",
     "output_type": "stream",
     "text": [
      "Collecting qrcode\n",
      "  Downloading qrcode-7.3.1.tar.gz (43 kB)\n",
      "\u001b[2K     \u001b[90m━━━━━━━━━━━━━━━━━━━━━━━━━━━━━━━━━━━━━━━━\u001b[0m \u001b[32m43.5/43.5 KB\u001b[0m \u001b[31m1.1 MB/s\u001b[0m eta \u001b[36m0:00:00\u001b[0m\n",
      "\u001b[?25h  Preparing metadata (setup.py) ... \u001b[?25ldone\n",
      "\u001b[?25hBuilding wheels for collected packages: qrcode\n",
      "  Building wheel for qrcode (setup.py) ... \u001b[?25ldone\n",
      "\u001b[?25h  Created wheel for qrcode: filename=qrcode-7.3.1-py3-none-any.whl size=40401 sha256=5a85f98c30683b4eed6ce5d98926d0c77bb446ab887a0ad4b816fa1fd5484223\n",
      "  Stored in directory: /Users/mani/Library/Caches/pip/wheels/93/54/16/55cec87f8d902ed84b94ab8fdb7e89ae1158c06e130bc83b03\n",
      "Successfully built qrcode\n",
      "Installing collected packages: qrcode\n",
      "Successfully installed qrcode-7.3.1\n",
      "Note: you may need to restart the kernel to use updated packages.\n"
     ]
    }
   ],
   "source": [
    "pip install qrcode"
   ]
  },
  {
   "cell_type": "markdown",
   "id": "9025f3d2",
   "metadata": {},
   "source": [
    "# Generating QR Code using qrcode library"
   ]
  },
  {
   "cell_type": "code",
   "execution_count": 1,
   "id": "ee5314f2",
   "metadata": {},
   "outputs": [
    {
     "data": {
      "image/png": "[encoded data removed]",
      "text/plain": [
       "<PIL.Image.Image image mode=RGB size=350x350 at 0x7FD436C994F0>"
      ]
     },
     "execution_count": 1,
     "metadata": {},
     "output_type": "execute_result"
    }
   ],
   "source": [
    "import qrcode\n",
    "\n",
    "data = \"https://www.linkedin.com/in/muthumani117/\"\n",
    "\n",
    "# output file name\n",
    "filename = \"qrcode.png\"\n",
    "\n",
    "# generating QR code\n",
    "qr = qrcode.QRCode(box_size = 10, border = 3)\n",
    "qr.add_data(data)\n",
    "qr.make(fit = True)\n",
    "\n",
    "# save img to a file\n",
    "img = qr.make_image().convert('RGB')\n",
    "img.save(filename)\n",
    "img"
   ]
  },
  {
   "cell_type": "markdown",
   "id": "650b1eee",
   "metadata": {},
   "source": [
    "# Detecting the QR code image - opencv"
   ]
  },
  {
   "cell_type": "code",
   "execution_count": 2,
   "id": "0c5631bf",
   "metadata": {},
   "outputs": [],
   "source": [
    "import cv2\n",
    "\n",
    "image = cv2.imread('qrcode.png')\n",
    "det = cv2.QRCodeDetector()"
   ]
  },
  {
   "cell_type": "markdown",
   "id": "5bfb76b2",
   "metadata": {},
   "source": [
    "    opencv has function called QRCodeDectector()\n",
    "    \n",
    "    And this function has 3 functions:\n",
    "        detect() - return True if QR code is found\n",
    "        decode() - it decodes the QRcode after the detect method\n",
    "        detectAndDecode()  - it is combination of both detect and decode \n",
    "                             it return 3 outputs containing the data and array points"
   ]
  },
  {
   "cell_type": "code",
   "execution_count": 3,
   "id": "850373e9",
   "metadata": {},
   "outputs": [
    {
     "data": {
      "text/plain": [
       "'https://www.linkedin.com/in/muthumani117/'"
      ]
     },
     "execution_count": 3,
     "metadata": {},
     "output_type": "execute_result"
    }
   ],
   "source": [
    "data, array_points, binarized_qrcode = det.detectAndDecode(image)\n",
    "data"
   ]
  },
  {
   "cell_type": "code",
   "execution_count": 4,
   "id": "e9ce53e6",
   "metadata": {},
   "outputs": [
    {
     "data": {
      "text/plain": [
       "array([[[ 30.,  30.],\n",
       "        [319.,  30.],\n",
       "        [319., 319.],\n",
       "        [ 30., 319.]]], dtype=float32)"
      ]
     },
     "execution_count": 4,
     "metadata": {},
     "output_type": "execute_result"
    }
   ],
   "source": [
    "array_points"
   ]
  },
  {
   "cell_type": "code",
   "execution_count": 5,
   "id": "8adaff2d",
   "metadata": {},
   "outputs": [
    {
     "data": {
      "text/plain": [
       "array([[  0,   0,   0,   0,   0,   0,   0, 255, 255, 255,   0,   0,   0,\n",
       "          0,   0,   0, 255,   0,   0,   0, 255, 255,   0,   0,   0,   0,\n",
       "          0,   0,   0],\n",
       "       [  0, 255, 255, 255, 255, 255,   0, 255,   0, 255, 255, 255, 255,\n",
       "          0, 255,   0, 255, 255,   0,   0,   0, 255,   0, 255, 255, 255,\n",
       "        255, 255,   0],\n",
       "       [  0, 255,   0,   0,   0, 255,   0, 255, 255,   0, 255, 255, 255,\n",
       "        255, 255,   0, 255, 255, 255,   0,   0, 255,   0, 255,   0,   0,\n",
       "          0, 255,   0],\n",
       "       [  0, 255,   0,   0,   0, 255,   0, 255, 255,   0,   0,   0, 255,\n",
       "        255, 255, 255, 255, 255,   0,   0, 255, 255,   0, 255,   0,   0,\n",
       "          0, 255,   0],\n",
       "       [  0, 255,   0,   0,   0, 255,   0, 255,   0,   0,   0,   0,   0,\n",
       "        255, 255,   0, 255,   0,   0,   0, 255, 255,   0, 255,   0,   0,\n",
       "          0, 255,   0],\n",
       "       [  0, 255, 255, 255, 255, 255,   0, 255, 255, 255,   0,   0,   0,\n",
       "          0, 255,   0,   0,   0,   0,   0, 255, 255,   0, 255, 255, 255,\n",
       "        255, 255,   0],\n",
       "       [  0,   0,   0,   0,   0,   0,   0, 255,   0, 255,   0, 255,   0,\n",
       "        255,   0, 255,   0, 255,   0, 255,   0, 255,   0,   0,   0,   0,\n",
       "          0,   0,   0],\n",
       "       [255, 255, 255, 255, 255, 255, 255, 255, 255,   0, 255,   0, 255,\n",
       "          0,   0,   0, 255,   0,   0, 255,   0, 255, 255, 255, 255, 255,\n",
       "        255, 255, 255],\n",
       "       [  0, 255,   0, 255,   0, 255,   0, 255, 255,   0, 255,   0, 255,\n",
       "          0,   0, 255,   0,   0,   0,   0,   0, 255, 255, 255,   0, 255,\n",
       "        255,   0, 255],\n",
       "       [  0,   0,   0, 255,   0, 255, 255, 255, 255,   0,   0, 255, 255,\n",
       "          0,   0, 255,   0, 255, 255, 255, 255,   0,   0, 255, 255,   0,\n",
       "        255, 255,   0],\n",
       "       [255, 255,   0, 255,   0, 255,   0, 255, 255, 255,   0, 255,   0,\n",
       "        255,   0, 255, 255,   0, 255, 255,   0,   0, 255, 255, 255, 255,\n",
       "          0,   0,   0],\n",
       "       [  0,   0,   0,   0, 255, 255, 255,   0, 255, 255, 255,   0,   0,\n",
       "          0,   0,   0,   0,   0,   0, 255,   0,   0, 255, 255,   0, 255,\n",
       "        255,   0, 255],\n",
       "       [255,   0,   0,   0, 255, 255,   0, 255,   0, 255, 255,   0,   0,\n",
       "          0,   0,   0,   0,   0, 255,   0,   0,   0,   0, 255, 255,   0,\n",
       "        255,   0,   0],\n",
       "       [  0,   0,   0,   0, 255, 255, 255,   0, 255,   0, 255,   0, 255,\n",
       "          0,   0, 255,   0, 255, 255, 255,   0,   0,   0,   0, 255,   0,\n",
       "        255, 255,   0],\n",
       "       [255, 255,   0,   0, 255,   0,   0, 255,   0,   0, 255, 255,   0,\n",
       "          0, 255, 255, 255, 255,   0, 255, 255, 255, 255,   0, 255,   0,\n",
       "        255,   0,   0],\n",
       "       [  0,   0, 255, 255,   0, 255, 255, 255, 255, 255, 255, 255,   0,\n",
       "          0,   0,   0,   0,   0,   0,   0, 255, 255, 255, 255, 255,   0,\n",
       "        255,   0, 255],\n",
       "       [  0,   0,   0,   0,   0, 255,   0, 255,   0, 255,   0,   0,   0,\n",
       "          0,   0, 255, 255,   0, 255,   0,   0,   0,   0,   0, 255,   0,\n",
       "        255,   0,   0],\n",
       "       [255, 255, 255, 255, 255,   0, 255, 255, 255,   0, 255, 255,   0,\n",
       "        255, 255, 255,   0, 255, 255, 255,   0,   0,   0, 255, 255,   0,\n",
       "          0, 255,   0],\n",
       "       [  0, 255,   0,   0, 255, 255,   0,   0,   0, 255, 255,   0,   0,\n",
       "          0, 255, 255,   0,   0, 255, 255,   0,   0, 255,   0, 255, 255,\n",
       "        255,   0,   0],\n",
       "       [255,   0,   0, 255,   0,   0, 255,   0, 255, 255, 255,   0,   0,\n",
       "          0,   0,   0, 255,   0, 255,   0,   0,   0,   0, 255, 255,   0,\n",
       "        255,   0, 255],\n",
       "       [  0, 255,   0,   0,   0, 255,   0,   0, 255, 255,   0, 255, 255,\n",
       "        255,   0,   0,   0,   0,   0, 255,   0,   0,   0,   0,   0, 255,\n",
       "        255, 255, 255],\n",
       "       [255, 255, 255, 255, 255, 255, 255, 255,   0,   0,   0, 255, 255,\n",
       "        255, 255, 255,   0, 255, 255,   0,   0, 255, 255, 255,   0, 255,\n",
       "          0,   0,   0],\n",
       "       [  0,   0,   0,   0,   0,   0,   0, 255, 255,   0,   0, 255, 255,\n",
       "          0, 255, 255,   0,   0, 255,   0,   0, 255,   0, 255,   0,   0,\n",
       "        255,   0,   0],\n",
       "       [  0, 255, 255, 255, 255, 255,   0, 255, 255,   0, 255, 255,   0,\n",
       "        255, 255,   0,   0,   0,   0, 255,   0, 255, 255, 255,   0,   0,\n",
       "        255, 255, 255],\n",
       "       [  0, 255,   0,   0,   0, 255,   0, 255,   0,   0, 255, 255, 255,\n",
       "        255, 255, 255, 255,   0, 255, 255,   0,   0,   0,   0,   0, 255,\n",
       "        255, 255, 255],\n",
       "       [  0, 255,   0,   0,   0, 255,   0, 255, 255, 255,   0,   0,   0,\n",
       "          0, 255, 255,   0, 255, 255, 255, 255, 255, 255, 255,   0, 255,\n",
       "          0,   0,   0],\n",
       "       [  0, 255,   0,   0,   0, 255,   0, 255,   0,   0, 255,   0, 255,\n",
       "          0,   0, 255, 255, 255, 255,   0,   0, 255, 255,   0,   0,   0,\n",
       "        255, 255,   0],\n",
       "       [  0, 255, 255, 255, 255, 255,   0, 255, 255,   0,   0,   0,   0,\n",
       "        255,   0,   0,   0,   0,   0,   0,   0,   0,   0, 255,   0, 255,\n",
       "        255,   0, 255],\n",
       "       [  0,   0,   0,   0,   0,   0,   0, 255,   0, 255, 255,   0, 255,\n",
       "          0,   0, 255, 255,   0, 255,   0,   0,   0, 255,   0,   0,   0,\n",
       "        255,   0,   0]], dtype=uint8)"
      ]
     },
     "execution_count": 5,
     "metadata": {},
     "output_type": "execute_result"
    }
   ],
   "source": [
    "binarized_qrcode"
   ]
  },
  {
   "cell_type": "code",
   "execution_count": null,
   "id": "fc6c4743",
   "metadata": {},
   "outputs": [],
   "source": []
  }
 ],
 "metadata": {
  "kernelspec": {
   "display_name": "Python 3 (ipykernel)",
   "language": "python",
   "name": "python3"
  },
  "language_info": {
   "codemirror_mode": {
    "name": "ipython",
    "version": 3
   },
   "file_extension": ".py",
   "mimetype": "text/x-python",
   "name": "python",
   "nbconvert_exporter": "python",
   "pygments_lexer": "ipython3",
   "version": "3.9.7"
  }
 },
 "nbformat": 4,
 "nbformat_minor": 5
}
